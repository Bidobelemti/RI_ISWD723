{
 "cells": [
  {
   "cell_type": "markdown",
   "id": "06256ac6",
   "metadata": {},
   "source": [
    "# Practica de Recuperación de Información\n",
    "\n",
    "## Fundamentos con python y usos básicos con pandas"
   ]
  },
  {
   "cell_type": "markdown",
   "id": "beeec535",
   "metadata": {},
   "source": [
    "1. Importar librerias fundamentales para el desarrollo"
   ]
  },
  {
   "cell_type": "code",
   "execution_count": 1,
   "id": "e067abec",
   "metadata": {},
   "outputs": [],
   "source": [
    "import pandas as pd"
   ]
  },
  {
   "cell_type": "markdown",
   "id": "1e741853",
   "metadata": {},
   "source": [
    "2. Lectura de archivo CSV (comma separated values)"
   ]
  },
  {
   "cell_type": "code",
   "execution_count": 2,
   "id": "700a3984",
   "metadata": {},
   "outputs": [
    {
     "data": {
      "text/html": [
       "<div>\n",
       "<style scoped>\n",
       "    .dataframe tbody tr th:only-of-type {\n",
       "        vertical-align: middle;\n",
       "    }\n",
       "\n",
       "    .dataframe tbody tr th {\n",
       "        vertical-align: top;\n",
       "    }\n",
       "\n",
       "    .dataframe thead th {\n",
       "        text-align: right;\n",
       "    }\n",
       "</style>\n",
       "<table border=\"1\" class=\"dataframe\">\n",
       "  <thead>\n",
       "    <tr style=\"text-align: right;\">\n",
       "      <th></th>\n",
       "      <th>review</th>\n",
       "      <th>sentiment</th>\n",
       "    </tr>\n",
       "  </thead>\n",
       "  <tbody>\n",
       "    <tr>\n",
       "      <th>0</th>\n",
       "      <td>One of the other reviewers has mentioned that ...</td>\n",
       "      <td>positive</td>\n",
       "    </tr>\n",
       "    <tr>\n",
       "      <th>1</th>\n",
       "      <td>A wonderful little production. &lt;br /&gt;&lt;br /&gt;The...</td>\n",
       "      <td>positive</td>\n",
       "    </tr>\n",
       "    <tr>\n",
       "      <th>2</th>\n",
       "      <td>I thought this was a wonderful way to spend ti...</td>\n",
       "      <td>positive</td>\n",
       "    </tr>\n",
       "    <tr>\n",
       "      <th>3</th>\n",
       "      <td>Basically there's a family where a little boy ...</td>\n",
       "      <td>negative</td>\n",
       "    </tr>\n",
       "    <tr>\n",
       "      <th>4</th>\n",
       "      <td>Petter Mattei's \"Love in the Time of Money\" is...</td>\n",
       "      <td>positive</td>\n",
       "    </tr>\n",
       "    <tr>\n",
       "      <th>...</th>\n",
       "      <td>...</td>\n",
       "      <td>...</td>\n",
       "    </tr>\n",
       "    <tr>\n",
       "      <th>49995</th>\n",
       "      <td>I thought this movie did a down right good job...</td>\n",
       "      <td>positive</td>\n",
       "    </tr>\n",
       "    <tr>\n",
       "      <th>49996</th>\n",
       "      <td>Bad plot, bad dialogue, bad acting, idiotic di...</td>\n",
       "      <td>negative</td>\n",
       "    </tr>\n",
       "    <tr>\n",
       "      <th>49997</th>\n",
       "      <td>I am a Catholic taught in parochial elementary...</td>\n",
       "      <td>negative</td>\n",
       "    </tr>\n",
       "    <tr>\n",
       "      <th>49998</th>\n",
       "      <td>I'm going to have to disagree with the previou...</td>\n",
       "      <td>negative</td>\n",
       "    </tr>\n",
       "    <tr>\n",
       "      <th>49999</th>\n",
       "      <td>No one expects the Star Trek movies to be high...</td>\n",
       "      <td>negative</td>\n",
       "    </tr>\n",
       "  </tbody>\n",
       "</table>\n",
       "<p>50000 rows × 2 columns</p>\n",
       "</div>"
      ],
      "text/plain": [
       "                                                  review sentiment\n",
       "0      One of the other reviewers has mentioned that ...  positive\n",
       "1      A wonderful little production. <br /><br />The...  positive\n",
       "2      I thought this was a wonderful way to spend ti...  positive\n",
       "3      Basically there's a family where a little boy ...  negative\n",
       "4      Petter Mattei's \"Love in the Time of Money\" is...  positive\n",
       "...                                                  ...       ...\n",
       "49995  I thought this movie did a down right good job...  positive\n",
       "49996  Bad plot, bad dialogue, bad acting, idiotic di...  negative\n",
       "49997  I am a Catholic taught in parochial elementary...  negative\n",
       "49998  I'm going to have to disagree with the previou...  negative\n",
       "49999  No one expects the Star Trek movies to be high...  negative\n",
       "\n",
       "[50000 rows x 2 columns]"
      ]
     },
     "execution_count": 2,
     "metadata": {},
     "output_type": "execute_result"
    }
   ],
   "source": [
    "df = pd.read_csv('data/IMDB Dataset.csv')\n",
    "df #imprimimoos todo el contenido del df (dataframe)"
   ]
  },
  {
   "cell_type": "markdown",
   "id": "c5e396f1",
   "metadata": {},
   "source": [
    "La variabel **df** hace referencia a un DataFrame, este es una estructura de datos bidimensional. El cual permite almacenar, organizar y manipular datos en forma tabular. Se puede decir que es similar a una hoja de Excel, donde, cada fila corresponde a un valor a indexar y cada columna a un atributo de un valor. En el dataset usado en este caso, se tienen 50k valores con dos atributos, review y sentiment."
   ]
  },
  {
   "cell_type": "markdown",
   "id": "1b476543",
   "metadata": {},
   "source": [
    "2. ¿Comó encontrar los reviews que contienen la palabra ¨good¨?"
   ]
  },
  {
   "cell_type": "code",
   "execution_count": 3,
   "id": "f9fb1829",
   "metadata": {},
   "outputs": [],
   "source": [
    "def hasgood (str_):\n",
    "    #Función devuelve True si el string contiene la palabra good, caso contrario devuelve False\n",
    "    return 'good' in str_ "
   ]
  },
  {
   "cell_type": "markdown",
   "id": "6ce1aad1",
   "metadata": {},
   "source": [
    "Aplicar la función _hasgood_ en una columna"
   ]
  },
  {
   "cell_type": "code",
   "execution_count": 11,
   "id": "5b46f862",
   "metadata": {},
   "outputs": [
    {
     "data": {
      "text/plain": [
       "0        False\n",
       "1        False\n",
       "2        False\n",
       "3        False\n",
       "4         True\n",
       "         ...  \n",
       "49995     True\n",
       "49996    False\n",
       "49997     True\n",
       "49998    False\n",
       "49999     True\n",
       "Name: review, Length: 50000, dtype: bool"
      ]
     },
     "execution_count": 11,
     "metadata": {},
     "output_type": "execute_result"
    }
   ],
   "source": [
    "reviewHasGood = df['review'].apply(hasgood) #Para simplificar se usa la función reviewHasGood, pero puede ser oipcional\n",
    "reviewHasGood"
   ]
  },
  {
   "cell_type": "markdown",
   "id": "0dc0621c",
   "metadata": {},
   "source": [
    "Para realizar el conteo de valores de una columna se realiza mediante la función _values_counts()_"
   ]
  },
  {
   "cell_type": "code",
   "execution_count": 5,
   "id": "514669b2",
   "metadata": {},
   "outputs": [
    {
     "data": {
      "text/plain": [
       "review\n",
       "False    31229\n",
       "True     18771\n",
       "Name: count, dtype: int64"
      ]
     },
     "execution_count": 5,
     "metadata": {},
     "output_type": "execute_result"
    }
   ],
   "source": [
    "reviewHasGood.value_counts()"
   ]
  },
  {
   "cell_type": "markdown",
   "id": "8b10428d",
   "metadata": {},
   "source": [
    "2. Ahora quiero que mi query no sea unicamente la palabra good, si no que yo pueda especificar cualquier palabra"
   ]
  },
  {
   "cell_type": "code",
   "execution_count": 13,
   "id": "376cab36",
   "metadata": {},
   "outputs": [],
   "source": [
    "def hasquery (str_, query):\n",
    "    #Función devuelve True si en el string se encuentra la palabra a buscar como query, caso contrario devuelve False\n",
    "    return str_ in query "
   ]
  },
  {
   "cell_type": "code",
   "execution_count": 24,
   "id": "c66d8f60",
   "metadata": {},
   "outputs": [
    {
     "data": {
      "text/plain": [
       "0        False\n",
       "1        False\n",
       "2        False\n",
       "3        False\n",
       "4        False\n",
       "         ...  \n",
       "49995    False\n",
       "49996    False\n",
       "49997    False\n",
       "49998    False\n",
       "49999    False\n",
       "Name: review, Length: 50000, dtype: bool"
      ]
     },
     "execution_count": 24,
     "metadata": {},
     "output_type": "execute_result"
    }
   ],
   "source": [
    "query = 'not bad'\n",
    "reviewHasAnyQuery = df['review'].apply(lambda x: hasquery(query, x))\n",
    "reviewHasAnyQuery"
   ]
  },
  {
   "cell_type": "code",
   "execution_count": 25,
   "id": "a5ad10ba",
   "metadata": {},
   "outputs": [
    {
     "data": {
      "text/plain": [
       "review\n",
       "False    49752\n",
       "True       248\n",
       "Name: count, dtype: int64"
      ]
     },
     "execution_count": 25,
     "metadata": {},
     "output_type": "execute_result"
    }
   ],
   "source": [
    "reviewHasAnyQuery.value_counts()"
   ]
  },
  {
   "cell_type": "code",
   "execution_count": 26,
   "id": "4cc798d7",
   "metadata": {},
   "outputs": [
    {
     "data": {
      "text/html": [
       "<div>\n",
       "<style scoped>\n",
       "    .dataframe tbody tr th:only-of-type {\n",
       "        vertical-align: middle;\n",
       "    }\n",
       "\n",
       "    .dataframe tbody tr th {\n",
       "        vertical-align: top;\n",
       "    }\n",
       "\n",
       "    .dataframe thead th {\n",
       "        text-align: right;\n",
       "    }\n",
       "</style>\n",
       "<table border=\"1\" class=\"dataframe\">\n",
       "  <thead>\n",
       "    <tr style=\"text-align: right;\">\n",
       "      <th></th>\n",
       "      <th>review</th>\n",
       "      <th>sentiment</th>\n",
       "    </tr>\n",
       "  </thead>\n",
       "  <tbody>\n",
       "    <tr>\n",
       "      <th>14</th>\n",
       "      <td>This a fantastic movie of three prisoners who ...</td>\n",
       "      <td>positive</td>\n",
       "    </tr>\n",
       "    <tr>\n",
       "      <th>67</th>\n",
       "      <td>I really like Salman Kahn so I was really disa...</td>\n",
       "      <td>negative</td>\n",
       "    </tr>\n",
       "    <tr>\n",
       "      <th>240</th>\n",
       "      <td>This movie was absolutely pathetic. A pitiful ...</td>\n",
       "      <td>negative</td>\n",
       "    </tr>\n",
       "    <tr>\n",
       "      <th>420</th>\n",
       "      <td>This movie starts with the main character lyin...</td>\n",
       "      <td>negative</td>\n",
       "    </tr>\n",
       "    <tr>\n",
       "      <th>691</th>\n",
       "      <td>First, I realize that a \"1\" rating is supposed...</td>\n",
       "      <td>negative</td>\n",
       "    </tr>\n",
       "    <tr>\n",
       "      <th>...</th>\n",
       "      <td>...</td>\n",
       "      <td>...</td>\n",
       "    </tr>\n",
       "    <tr>\n",
       "      <th>48844</th>\n",
       "      <td>Not a terrible film -- my 10 year old boy love...</td>\n",
       "      <td>negative</td>\n",
       "    </tr>\n",
       "    <tr>\n",
       "      <th>48851</th>\n",
       "      <td>What can you say about this movie? It was not ...</td>\n",
       "      <td>negative</td>\n",
       "    </tr>\n",
       "    <tr>\n",
       "      <th>48912</th>\n",
       "      <td>I absolutely love this show, but I saw the sec...</td>\n",
       "      <td>positive</td>\n",
       "    </tr>\n",
       "    <tr>\n",
       "      <th>49843</th>\n",
       "      <td>I'm shocked that all the \"hated it\" ratings ar...</td>\n",
       "      <td>negative</td>\n",
       "    </tr>\n",
       "    <tr>\n",
       "      <th>49846</th>\n",
       "      <td>The rumor is true: girls like COYOTE UGLY more...</td>\n",
       "      <td>negative</td>\n",
       "    </tr>\n",
       "  </tbody>\n",
       "</table>\n",
       "<p>248 rows × 2 columns</p>\n",
       "</div>"
      ],
      "text/plain": [
       "                                                  review sentiment\n",
       "14     This a fantastic movie of three prisoners who ...  positive\n",
       "67     I really like Salman Kahn so I was really disa...  negative\n",
       "240    This movie was absolutely pathetic. A pitiful ...  negative\n",
       "420    This movie starts with the main character lyin...  negative\n",
       "691    First, I realize that a \"1\" rating is supposed...  negative\n",
       "...                                                  ...       ...\n",
       "48844  Not a terrible film -- my 10 year old boy love...  negative\n",
       "48851  What can you say about this movie? It was not ...  negative\n",
       "48912  I absolutely love this show, but I saw the sec...  positive\n",
       "49843  I'm shocked that all the \"hated it\" ratings ar...  negative\n",
       "49846  The rumor is true: girls like COYOTE UGLY more...  negative\n",
       "\n",
       "[248 rows x 2 columns]"
      ]
     },
     "execution_count": 26,
     "metadata": {},
     "output_type": "execute_result"
    }
   ],
   "source": [
    "df[reviewHasAnyQuery]"
   ]
  },
  {
   "cell_type": "code",
   "execution_count": 27,
   "id": "20af6278",
   "metadata": {},
   "outputs": [
    {
     "data": {
      "text/plain": [
       "\"This a fantastic movie of three prisoners who become famous. One of the actors is george clooney and I'm not a fan but this roll is not bad. Another good thing about the movie is the soundtrack (The man of constant sorrow). I recommand this movie to everybody. Greetings Bart\""
      ]
     },
     "execution_count": 27,
     "metadata": {},
     "output_type": "execute_result"
    }
   ],
   "source": [
    "df['review'].loc[14]"
   ]
  }
 ],
 "metadata": {
  "kernelspec": {
   "display_name": "Python 3",
   "language": "python",
   "name": "python3"
  },
  "language_info": {
   "codemirror_mode": {
    "name": "ipython",
    "version": 3
   },
   "file_extension": ".py",
   "mimetype": "text/x-python",
   "name": "python",
   "nbconvert_exporter": "python",
   "pygments_lexer": "ipython3",
   "version": "3.10.11"
  }
 },
 "nbformat": 4,
 "nbformat_minor": 5
}
